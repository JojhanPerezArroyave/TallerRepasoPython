{
 "cells": [
  {
   "cell_type": "markdown",
   "metadata": {},
   "source": [
    "## Taller Unidad 8\n",
    "### OpenMp - Multiprocessing"
   ]
  },
  {
   "cell_type": "markdown",
   "metadata": {},
   "source": [
    "#### Solución:"
   ]
  },
  {
   "cell_type": "markdown",
   "metadata": {},
   "source": [
    "#### 1. ¿Qué es la programación paralela y cómo se relaciona con: la biblioteca multiprocessing, y con OpenMP?\n",
    " - La programación paralela es un paradigma de la programación que permite la ejecución simultánea de varías tareas en múltiples unidades de procesamiento. \n",
    " - Relación con la biblioteca multiprocessing: Esta biblioteca permite aprovechar la capacidad de multiprocesamiento en sistemas con múltiples núcleos de CPU o procesadores, brindadndo la capacidad para crear y gestionar procesos paralelos, permitiendo distribuir el trabajo entre ellos y combinar los resultados al final.\n",
    " - Relación con OpenMp: OpenMP es una interfaz de programación de aplicaciones para programación paralela basada en memoria compartida, esta permite agregar pragmas al código fuente para indicar qué regiones del código se deben paralelizar, donde ya el compilador se encarga de generar el código paralelo correspondiente facilitando el proceso.\n",
    "\n",
    " - Basicamente tanto la biblioteca multiprocessing como OpenMP permiten aprovechar la capacidad de multiprocesamiento en sistemas modernos, pero difieren en su enfoque y nivel de abstracción. Multiprocessing es una biblioteca de Python que facilita la creación de procesos paralelos, mientras que OpenMP es una API de más bajo nivel que permite paralelizar regiones de código utilizando directivas en lenguajes como C."
   ]
  },
  {
   "cell_type": "markdown",
   "metadata": {},
   "source": [
    "#### 2. Diferencias entre procesos y subprocesos.\n",
    "##### Procesos\n",
    "- Un proceso es una instancia de un programa en ejecución, con su propio espacio de direcciones de memoria.\n",
    "- Los procesos son independientes entre sí y no comparten memoria directamente.\n",
    "- La creación de un nuevo proceso requiere más recursos del sistema (memoria, archivos, etc.) que la creación de un subproceso.\n",
    "- La comunicación entre procesos se realiza mediante mecanismos como tuberías, sockets, señales o memoria compartida.\n",
    "- Si un proceso falla, no afecta directamente a otros procesos.\n",
    "- Cada proceso tiene su propio ciclo de planificación independiente.\n",
    "\n",
    "##### Subprocesos o threads\n",
    "- Un subproceso es una ruta de ejecución dentro de un mismo proceso.\n",
    "- Los subprocesos comparten el mismo espacio de direcciones de memoria del proceso al que pertenecen.\n",
    "- La creación de un nuevo subproceso es más ligera y requiere menos recursos que la creación de un proceso.\n",
    "- La comunicación y sincronización entre subprocesos se realiza a través de estructuras de datos compartidas y mecanismos de sincronización como semáforos, bloqueos, etc.\n",
    "- Si un subproceso falla, puede afectar a otros subprocesos dentro del mismo proceso.\n",
    "- Los subprocesos son planificados por el mismo planificador de procesos del sistema operativo.\n",
    "\n",
    "En pocas palabras los procesos son instancias independientes de un programa en ejecución, mientras que los subprocesos son rutas de ejecución dentro de un mismo proceso, compartiendo recursos como memoria, donde los subprocesos son más livianos y permiten un mayor grado de paralelismo dentro de un mismo proceso, pero también son más propensos a interferencias y errores"
   ]
  },
  {
   "cell_type": "markdown",
   "metadata": {},
   "source": [
    "#### 3. ¿Cómo utilizar multiprocessing para dividir una tarea en múltiples procesos?\n",
    "1. Identificar la tarea a paralelizar.\n",
    "2. Importar la biblioteca multiprocessing. \n",
    "3. Definir la función a ejecutar en paralelo.\n",
    "4. Dividir los datos de entrada: Antes de comenzar el procesamiento paralelo se necesita dividir los datos de entrada en partes más pequeña, cada parte será procesada por un proceso diferente.\n",
    "5. Crear un pool: La clase Pool de multiprocessing es la encargada de gestionar un grupo de procesos de trabajo, se crea un objeto Pool especificando el número de procesos que se desea utilizar, en caso de no tener seguridad en esto se puede usar None para utilizar tantos procesos como núcleos de CPU estén disponibles.\n",
    "6. Aplicar la función paralela: Utilizar el método map o imap del objeto Pool para aplicar tu función a cada parte de los datos de entrada de forma paralela. Cada proceso ejecutará tu función con una parte diferente de los datos.\n",
    "7. Esperar a que los procesos terminen. Se pueden utilizar los métodos close() y join() del objeto Pool para hacer esto.\n",
    "8. Coombinar los resultados.\n",
    "9. Cerrar el objeto Pool.\n",
    "\n",
    "Ejemplo en el siguiente campo "
   ]
  },
  {
   "cell_type": "code",
   "execution_count": 4,
   "metadata": {},
   "outputs": [
    {
     "name": "stdout",
     "output_type": "stream",
     "text": [
      "La suma de los cuadrados de los números del 1 al 100 es: 299536\n"
     ]
    }
   ],
   "source": [
    "# 2. Importa la biblioteca multiprocessing (ya hecho al inicio)\n",
    "import multiprocessing\n",
    "\n",
    "# 3. Definir la función a ejecutar en paralelo\n",
    "def suma_cuadrados(numeros):\n",
    "    resultado = sum(x**2 for x in numeros)\n",
    "    return resultado\n",
    "\n",
    "# 4. Dividir los datos de entrada\n",
    "def dividir_datos(data, num_procesos):\n",
    "    chunk_size = len(data) // num_procesos\n",
    "    return [data[i*chunk_size:(i+1)*chunk_size] for i in range(num_procesos)]\n",
    "\n",
    "if __name__ == '__main__':\n",
    "     # 1. Identifica la tarea a paralelizar (calcular la suma de los cuadrados de una lista de números)\n",
    "\n",
    "    # Datos de entrada\n",
    "    numeros = list(range(1, 101)) \n",
    "\n",
    "    # 5. Crear un objeto Pool\n",
    "    num_procesos = multiprocessing.cpu_count()  \n",
    "    pool = multiprocessing.Pool(processes=num_procesos)\n",
    "\n",
    "     # 4. Dividir los datos de entrada (usando la función dividir_datos)\n",
    "    datos_divididos = dividir_datos(numeros, num_procesos)\n",
    "\n",
    "    # 6. Aplicar la función paralela\n",
    "    resultados = pool.map(suma_cuadrados, datos_divididos)\n",
    "\n",
    "    # 7. Esperar a que los procesos terminen\n",
    "    pool.close()\n",
    "    pool.join()\n",
    "\n",
    "    # 8. Combinar los resultados\n",
    "    resultado_final = sum(resultados)\n",
    "\n",
    "    print(f\"La suma de los cuadrados de los números del 1 al 100 es: {resultado_final}\")\n",
    "\n",
    "     # 9. Cerrar el objeto Pool (ya se hizo en el paso 7)"
   ]
  },
  {
   "cell_type": "markdown",
   "metadata": {},
   "source": [
    "#### 4. Actividad práctica: suma de números enteros.\n",
    "1.  Utilizar multiprocessing para acelerar el cálculo de la suma de los primeros N números enteros.\n",
    "2.  Comparar el tiempo de ejecución de la versión secuencial con la versión paralela.\n",
    "3.  Experimentar con diferentes valores para el número de procesos para ver cómo afecta el rendimiento.\n",
    "4.  Crear una tabla de comparación.\n"
   ]
  },
  {
   "cell_type": "code",
   "execution_count": 13,
   "metadata": {},
   "outputs": [
    {
     "name": "stdout",
     "output_type": "stream",
     "text": [
      "Resultados para sumar los primeros 100000000 enteros con diferentes números de procesos:\n",
      "\n",
      "   Número de procesos  Tiempo secuencial (s)  Tiempo paralelo (s)\n",
      "0                   1               0.715842             0.808573\n",
      "1                   2               0.708581             0.370062\n",
      "2                   3               0.710627             0.259320\n",
      "3                   4               0.707032             0.212240\n",
      "4                   5               0.715834             0.172038\n",
      "5                   6               0.837411             0.252338\n",
      "6                   7               0.707846             0.178600\n",
      "7                   8               0.799508             0.200493\n"
     ]
    }
   ],
   "source": [
    "import multiprocessing  # Importa el módulo multiprocessing para trabajar con procesos en paralelo\n",
    "import time  # Importa el módulo time para medir el tiempo de ejecución\n",
    "import pandas as pd  # Importa el módulo pandas para trabajar con datos tabulares\n",
    "\n",
    "def suma_rango(rango):\n",
    "    return sum(range(rango[0], rango[1]))  # Función que suma los números dentro de un rango\n",
    "\n",
    "def suma_paralela(n, num_procesos):\n",
    "    pool = multiprocessing.Pool(processes=num_procesos)  # Crea un grupo de procesos paralelos\n",
    "    rango_por_proceso = n // num_procesos  # Calcula el rango de enteros a procesar por cada proceso\n",
    "    rangos = [(i*rango_por_proceso, (i+1)*rango_por_proceso) for i in range(num_procesos)]  # Divide los enteros en rangos\n",
    "    resultados = pool.map(suma_rango, rangos)  # Aplica la función suma_rango a cada rango utilizando el grupo de procesos\n",
    "    pool.close()  # Cierra el grupo de procesos\n",
    "    pool.join()  # Espera a que todos los procesos en el grupo finalicen\n",
    "    return sum(resultados)  # Devuelve la suma total de los resultados parciales obtenidos por cada proceso\n",
    "\n",
    "def suma_secuencial(n):\n",
    "    return sum(range(n))  # Función que calcula la suma de los primeros n enteros de manera secuencial\n",
    "\n",
    "if __name__ == '__main__':\n",
    "    n = int(input(\"Ingrese el número de enteros a sumar: \"))  # Solicita al usuario ingresar el número de enteros a sumar\n",
    "    num_procesos = int(input(\"Ingrese el número de procesos: \"))  # Solicita al usuario ingresar el número de procesos\n",
    "\n",
    "    datos = []  # Lista para almacenar los datos de tiempo de ejecución\n",
    "\n",
    "    for i in range(1, num_procesos + 1):  # Itera sobre diferentes cantidades de procesos\n",
    "        # Versión secuencial\n",
    "        inicio = time.time()  # Marca el tiempo de inicio\n",
    "        resultado_secuencial = suma_secuencial(n)  # Calcula la suma secuencial de los primeros n enteros\n",
    "        tiempo_secuencial = time.time() - inicio  # Calcula el tiempo transcurrido\n",
    "\n",
    "        # Versión paralela\n",
    "        inicio = time.time()  # Marca el tiempo de inicio\n",
    "        resultado_paralelo = suma_paralela(n, i)  # Calcula la suma paralela de los primeros n enteros con i procesos\n",
    "        tiempo_paralelo = time.time() - inicio  # Calcula el tiempo transcurrido\n",
    "\n",
    "        # Agregar fila a la lista de datos\n",
    "        datos.append({\"Número de procesos\": i,\n",
    "                      \"Tiempo secuencial (s)\": tiempo_secuencial,\n",
    "                      \"Tiempo paralelo (s)\": tiempo_paralelo})  # Agrega los tiempos a la lista de datos\n",
    "\n",
    "    # Crear DataFrame de Pandas\n",
    "    tabla = pd.DataFrame(datos)  # Crea un DataFrame a partir de la lista de datos\n",
    "\n",
    "    # Imprimir tabla con título que indica el valor de n\n",
    "    print(f\"Resultados para sumar los primeros {n} enteros con diferentes números de procesos:\\n\")  # Imprime un mensaje indicando el valor de n\n",
    "    print(tabla)  # Imprime la tabla con los tiempos de ejecución para cada cantidad de procesos\n"
   ]
  },
  {
   "cell_type": "markdown",
   "metadata": {},
   "source": [
    "#### Tabla comparativa \n",
    "![Texto alternativo](https://github.com/JojhanPerezArroyave/TallerRepasoPython/blob/main/Captura%20de%20pantalla%202024-05-14%20185218.png?raw=true)\n",
    "\n",
    "- De la imagen podemos concluir que las bondades de la programación paralela son mayormente vistas con grandes volumenes de información, debido a que como podemos ver en la tabla con un n de 10.000 y 1.000.000 hacerlo secuencialmente puede ser más eficiente, pero si pasamos a 10.000.000 y 100.000.000 ya el hacer la operación en paralelo disminuye los tiempos a incluso menos de la mitad del tiempo secuencial, a excepción del momento de hacerlo con un unico proceso."
   ]
  },
  {
   "cell_type": "markdown",
   "metadata": {},
   "source": [
    "#### 5. Realizar lo mismo que en (4) para OpenMP."
   ]
  },
  {
   "cell_type": "code",
   "execution_count": 157,
   "metadata": {},
   "outputs": [
    {
     "name": "stdout",
     "output_type": "stream",
     "text": [
      "Overwriting ./multiprocessing_openMp.c\n"
     ]
    }
   ],
   "source": [
    "%%writefile ./multiprocessing_openMp.c\n",
    "\n",
    "#include <stdio.h>\n",
    "#include <stdlib.h>\n",
    "#include <omp.h>\n",
    "\n",
    "int main(int argc, char **argv) {\n",
    "    int N = 100000000; // Número de enteros a sumar\n",
    "    int max_procesos = 8; // Número máximo de procesos\n",
    "\n",
    "    // Tabla para almacenar los tiempos de ejecución secuenciales y paralelos\n",
    "    printf(\"Resultados para sumar los primeros %d enteros:\\n\", N);\n",
    "    printf(\"%-20s%-20s%-20s\\n\", \"Número de procesos\", \"Tiempo secuencial\", \"Tiempo paralelo\");\n",
    "\n",
    "    // Bucle para iterar sobre diferentes números de procesos\n",
    "    for (int num_procesos = 1; num_procesos <= max_procesos; num_procesos++) {\n",
    "        // Suma secuencial\n",
    "        double inicio_secuencial = omp_get_wtime(); // Tiempo de inicio secuencial\n",
    "        int suma_secuencial = 0;\n",
    "        // Bucle para realizar la suma secuencial\n",
    "        for (int i = 1; i <= N; i++) {\n",
    "            suma_secuencial += i;\n",
    "        }\n",
    "        double fin_secuencial = omp_get_wtime(); // Tiempo de finalización secuencial\n",
    "        double tiempo_secuencial = fin_secuencial - inicio_secuencial;\n",
    "\n",
    "        // Suma paralela\n",
    "        double inicio_paralelo = omp_get_wtime(); // Tiempo de inicio paralelo\n",
    "        int suma_paralela = 0;\n",
    "        // Bucle paralelo para realizar la suma paralela\n",
    "        #pragma omp parallel for num_threads(num_procesos) reduction(+:suma_paralela)\n",
    "        for (int i = 1; i <= N; i++) {\n",
    "            suma_paralela += i;\n",
    "        }\n",
    "        double fin_paralelo = omp_get_wtime(); // Tiempo de finalización paralelo\n",
    "        double tiempo_paralelo = fin_paralelo - inicio_paralelo;\n",
    "\n",
    "        // Imprimir resultados de tiempo para la configuración actual\n",
    "        printf(\"%-20d%-20f%-20f\\n\", num_procesos, tiempo_secuencial, tiempo_paralelo);\n",
    "    }\n",
    "\n",
    "    return 0;\n",
    "}\n",
    "\n"
   ]
  },
  {
   "cell_type": "code",
   "execution_count": 158,
   "metadata": {},
   "outputs": [
    {
     "name": "stdout",
     "output_type": "stream",
     "text": [
      "Resultados para sumar los primeros 100000000 enteros:\n",
      "Número de procesos Tiempo secuencial   Tiempo paralelo     \n",
      "1                   0.075081            0.069587            \n",
      "2                   0.075466            0.035624            \n",
      "3                   0.073902            0.024846            \n",
      "4                   0.075731            0.020150            \n",
      "5                   0.075147            0.017787            \n",
      "6                   0.074741            0.016726            \n",
      "7                   0.074488            0.017105            \n",
      "8                   0.075950            0.015200            \n"
     ]
    }
   ],
   "source": [
    "!gcc multiprocessing_openMp.c -o multiprocessing_openMp -fopenmp\n",
    "!./multiprocessing_openMp"
   ]
  },
  {
   "cell_type": "markdown",
   "metadata": {},
   "source": [
    "#### Tabla comparativa \n",
    "![Texto alternativo](https://github.com/JojhanPerezArroyave/TallerRepasoPython/blob/main/Captura%20de%20pantalla%202024-05-14%20202842.png?raw=true)\n",
    "\n",
    "- Podemos ver que sucedio algo muy similar a lo que pasó con multiprocessing pero esta vez los cambios de hacerlo en paralelo se empezarón a ver desde n igual a 1000000 y si hacemos una especie de comparativa esta paralelización automatica de openMP reultó más efectiva."
   ]
  }
 ],
 "metadata": {
  "kernelspec": {
   "display_name": "Python 3",
   "language": "python",
   "name": "python3"
  },
  "language_info": {
   "codemirror_mode": {
    "name": "ipython",
    "version": 3
   },
   "file_extension": ".py",
   "mimetype": "text/x-python",
   "name": "python",
   "nbconvert_exporter": "python",
   "pygments_lexer": "ipython3",
   "version": "3.10.12"
  }
 },
 "nbformat": 4,
 "nbformat_minor": 2
}
