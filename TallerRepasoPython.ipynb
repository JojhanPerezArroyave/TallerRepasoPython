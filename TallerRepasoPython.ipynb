{
 "cells": [
  {
   "cell_type": "markdown",
   "metadata": {},
   "source": [
    "1. Dado un arreglo NumPy de dos dimensiones, ¿cómo se calcula la multiplicación de las filas y columnas?\n"
   ]
  },
  {
   "cell_type": "code",
   "execution_count": 9,
   "metadata": {},
   "outputs": [
    {
     "name": "stdout",
     "output_type": "stream",
     "text": [
      "Producto de las filas:  [  6 120]\n",
      "Producto de las columnas:  [ 4 10 18]\n"
     ]
    }
   ],
   "source": [
    "import numpy as np\n",
    "\n",
    "# Creación del arreglo de 2 dimensiones\n",
    "array = np.array([[1,2,3], [4,5,6]])\n",
    "\n",
    "# Producto de las filas\n",
    "productoFilas = np.prod(array, axis=1)\n",
    "\n",
    "# Producto de las columnas\n",
    "productoColumnas = np.prod(array, axis=0)\n",
    "\n",
    "print(\"Producto de las filas: \", productoFilas)\n",
    "print(\"Producto de las columnas: \", productoColumnas)\n"
   ]
  },
  {
   "cell_type": "markdown",
   "metadata": {},
   "source": [
    "2. ¿Cómo se puede crear una función en Sympy que calcule la derivada de una función simbólica?\n"
   ]
  }
 ],
 "metadata": {
  "kernelspec": {
   "display_name": "Python 3",
   "language": "python",
   "name": "python3"
  },
  "language_info": {
   "codemirror_mode": {
    "name": "ipython",
    "version": 3
   },
   "file_extension": ".py",
   "mimetype": "text/x-python",
   "name": "python",
   "nbconvert_exporter": "python",
   "pygments_lexer": "ipython3",
   "version": "3.12.1"
  }
 },
 "nbformat": 4,
 "nbformat_minor": 2
}
