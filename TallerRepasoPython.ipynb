{
 "cells": [
  {
   "cell_type": "markdown",
   "metadata": {},
   "source": [
    "1. Dado un arreglo NumPy de dos dimensiones, ¿cómo se calcula la multiplicación de las filas y columnas?\n"
   ]
  },
  {
   "cell_type": "code",
   "execution_count": 14,
   "metadata": {},
   "outputs": [
    {
     "name": "stdout",
     "output_type": "stream",
     "text": [
      "Producto de las filas:  [  6 120]\n",
      "Producto de las columnas:  [ 4 10 18]\n"
     ]
    }
   ],
   "source": [
    "import numpy as np\n",
    "\n",
    "# Creación del arreglo de 2 dimensiones\n",
    "array = np.array([[1,2,3], [4,5,6]])\n",
    "\n",
    "# Producto de las filas\n",
    "productoFilas = np.prod(array, axis=1)\n",
    "\n",
    "# Producto de las columnas\n",
    "productoColumnas = np.prod(array, axis=0)\n",
    "\n",
    "print(\"Producto de las filas: \", productoFilas)\n",
    "print(\"Producto de las columnas: \", productoColumnas)\n"
   ]
  },
  {
   "cell_type": "markdown",
   "metadata": {},
   "source": [
    "2. ¿Cómo se puede crear una función en Sympy que calcule la derivada de una función simbólica?\n"
   ]
  },
  {
   "cell_type": "code",
   "execution_count": 3,
   "metadata": {},
   "outputs": [
    {
     "name": "stdout",
     "output_type": "stream",
     "text": [
      "La derivada de función es:  6*x + 5\n"
     ]
    }
   ],
   "source": [
    "from sympy import *\n",
    "\n",
    "x = Symbol('x')\n",
    "\n",
    "#Función a derivar\n",
    "funcion = 3*x**2 + 5*x + 1\n",
    "\n",
    "#Función para calcular la derivada\n",
    "def derivada(funcion, variable):\n",
    "    #diff es la función para derivar en sympy\n",
    "    return diff(funcion, variable)\n",
    "\n",
    "#LLamado a la función para calcular la derivada\n",
    "derivadaFuncion = derivada(funcion, x)\n",
    "\n",
    "print(\"La derivada de función es: \", derivadaFuncion)"
   ]
  },
  {
   "cell_type": "markdown",
   "metadata": {},
   "source": [
    "3. ¿Cómo se pueden unir dos DataFrames en Pandas utilizando una columna común? (merge)"
   ]
  },
  {
   "cell_type": "code",
   "execution_count": 5,
   "metadata": {},
   "outputs": [
    {
     "name": "stdout",
     "output_type": "stream",
     "text": [
      "  clave  valor_1  valor_2\n",
      "0     X        1        6\n",
      "1     Y        2        4\n",
      "2     Z        3        5\n"
     ]
    }
   ],
   "source": [
    "import pandas as pd\n",
    "\n",
    "# Creación de los dataframes\n",
    "df1 = pd.DataFrame({'clave': ['X', 'Y', 'Z'], \n",
    "                    'valor_1': [1, 2, 3]})\n",
    "\n",
    "df2 = pd.DataFrame({'clave': ['Y', 'Z', 'X'], \n",
    "                    'valor_2': [4, 5, 6]})\n",
    "\n",
    "# Unión de los dataframes utilizando la columna clave y el método merge\n",
    "df_unido = pd.merge(df1, df2, on='clave')\n",
    "\n",
    "print(df_unido)"
   ]
  },
  {
   "cell_type": "markdown",
   "metadata": {},
   "source": [
    "4. ¿Cómo se pueden agregar N columna de datos a un DataFrames en Pandas?"
   ]
  },
  {
   "cell_type": "code",
   "execution_count": null,
   "metadata": {},
   "outputs": [],
   "source": [
    "import pandas as pd\n",
    "\n",
    "#Si tenemos los datos en un diccionario, podemos asignarlo directamente:\n",
    "df1 = pd.DataFrame({'col1': [1, 2], 'col2': [3, 4]}) \n",
    "nuevas_cols = {'col3': [5, 6], 'col4': [7, 8]}\n",
    "df1 = df1.assign(**nuevas_cols)\n",
    "print('dataFrame con nuevas columnas: \\n', df1)\n",
    "\n",
    "# Se puede hacer mediante la concatenación de los dataframes\n",
    "nuevo_df = pd.DataFrame({'col3': [5, 6], 'col4': [7, 8]}) \n",
    "df2 = pd.concat([df2, nuevo_df], axis=1)\n",
    "print('dataFrame concatenado: \\n', df2)\n",
    "\n",
    "#También podemos pasar una lista de listas, una lista por cada nueva columna:\n",
    "df3 = pd.DataFrame({'col1': [1, 2], 'col2': [3, 4]})\n",
    "df3[['col3', 'col4']] = [[5, 6], [7, 8]]\n",
    "print('dataFrame con nuevas columnas: \\n', df3)\n"
   ]
  },
  {
   "cell_type": "markdown",
   "metadata": {},
   "source": [
    "5. ¿Cómo se puede graficar una función en Matplotlib utilizando el método subplot para mostrar varias gráficas en una misma figura?"
   ]
  },
  {
   "cell_type": "code",
   "execution_count": null,
   "metadata": {},
   "outputs": [],
   "source": [
    "import matplotlib.pyplot as plt\n",
    "import numpy as np\n",
    "\n",
    "# Datos para 3 funciones\n",
    "x = np.arange(0, 10, 0.1)\n",
    "y1 = x**2\n",
    "y2 = x**3 \n",
    "y3 = x**4\n",
    "\n",
    "# Crear figura y axes\n",
    "fig, axs = plt.subplots(1, 3, figsize=(10, 5))\n",
    "\n",
    "# Graficar cada función en los subplots \n",
    "axs[0].plot(x, y1)\n",
    "axs[0].set_title('y = x^2')\n",
    "\n",
    "axs[1].plot(x, y2)  \n",
    "axs[1].set_title('y = x^3')\n",
    "\n",
    "axs[2].plot(x, y3)\n",
    "axs[2].set_title('y = x^4')\n",
    "\n",
    "# Ajustar espaciado entre subplots\n",
    "plt.tight_layout()\n",
    "\n",
    "# Mostrar gráfica\n",
    "plt.show()\n"
   ]
  },
  {
   "cell_type": "markdown",
   "metadata": {},
   "source": [
    "6. ¿Cómo se puede encontrar el número de elementos distintos en un arreglo NumPy? "
   ]
  },
  {
   "cell_type": "code",
   "execution_count": 8,
   "metadata": {},
   "outputs": [
    {
     "name": "stdout",
     "output_type": "stream",
     "text": [
      "Número de elementos únicos:  4\n"
     ]
    }
   ],
   "source": [
    "import numpy as np\n",
    "\n",
    "# Arreglo para encontrar los elementos únicos\n",
    "arr = np.array([1, 2, 3, 2, 1, 3, 4, 4])\n",
    "\n",
    "# Encontrar los elementos únicos\n",
    "num_unique = len(np.unique(arr))\n",
    "\n",
    "print(\"Número de elementos únicos: \", num_unique)\n"
   ]
  }
 ],
 "metadata": {
  "kernelspec": {
   "display_name": "Python 3",
   "language": "python",
   "name": "python3"
  },
  "language_info": {
   "codemirror_mode": {
    "name": "ipython",
    "version": 3
   },
   "file_extension": ".py",
   "mimetype": "text/x-python",
   "name": "python",
   "nbconvert_exporter": "python",
   "pygments_lexer": "ipython3",
   "version": "3.12.1"
  }
 },
 "nbformat": 4,
 "nbformat_minor": 2
}
