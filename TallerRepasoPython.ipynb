{
 "cells": [
  {
   "cell_type": "markdown",
   "metadata": {},
   "source": [
    "1. Dado un arreglo NumPy de dos dimensiones, ¿cómo se calcula la multiplicación de las filas y columnas?\n"
   ]
  },
  {
   "cell_type": "code",
   "execution_count": 14,
   "metadata": {},
   "outputs": [
    {
     "name": "stdout",
     "output_type": "stream",
     "text": [
      "Producto de las filas:  [  6 120]\n",
      "Producto de las columnas:  [ 4 10 18]\n"
     ]
    }
   ],
   "source": [
    "import numpy as np\n",
    "\n",
    "# Creación del arreglo de 2 dimensiones\n",
    "array = np.array([[1,2,3], [4,5,6]])\n",
    "\n",
    "# Producto de las filas\n",
    "productoFilas = np.prod(array, axis=1)\n",
    "\n",
    "# Producto de las columnas\n",
    "productoColumnas = np.prod(array, axis=0)\n",
    "\n",
    "print(\"Producto de las filas: \", productoFilas)\n",
    "print(\"Producto de las columnas: \", productoColumnas)\n"
   ]
  },
  {
   "cell_type": "markdown",
   "metadata": {},
   "source": [
    "2. ¿Cómo se puede crear una función en Sympy que calcule la derivada de una función simbólica?\n"
   ]
  },
  {
   "cell_type": "code",
   "execution_count": 3,
   "metadata": {},
   "outputs": [
    {
     "name": "stdout",
     "output_type": "stream",
     "text": [
      "La derivada de función es:  6*x + 5\n"
     ]
    }
   ],
   "source": [
    "from sympy import *\n",
    "\n",
    "x = Symbol('x')\n",
    "\n",
    "#Función a derivar\n",
    "funcion = 3*x**2 + 5*x + 1\n",
    "\n",
    "#Función para calcular la derivada\n",
    "def derivada(funcion, variable):\n",
    "    #diff es la función para derivar en sympy\n",
    "    return diff(funcion, variable)\n",
    "\n",
    "#LLamado a la función para calcular la derivada\n",
    "derivadaFuncion = derivada(funcion, x)\n",
    "\n",
    "print(\"La derivada de función es: \", derivadaFuncion)"
   ]
  },
  {
   "cell_type": "markdown",
   "metadata": {},
   "source": [
    "3. ¿Cómo se pueden unir dos DataFrames en Pandas utilizando una columna común? (merge)"
   ]
  },
  {
   "cell_type": "code",
   "execution_count": 5,
   "metadata": {},
   "outputs": [
    {
     "name": "stdout",
     "output_type": "stream",
     "text": [
      "  clave  valor_1  valor_2\n",
      "0     X        1        6\n",
      "1     Y        2        4\n",
      "2     Z        3        5\n"
     ]
    }
   ],
   "source": [
    "import pandas as pd\n",
    "\n",
    "# Creación de los dataframes\n",
    "df1 = pd.DataFrame({'clave': ['X', 'Y', 'Z'], \n",
    "                    'valor_1': [1, 2, 3]})\n",
    "\n",
    "df2 = pd.DataFrame({'clave': ['Y', 'Z', 'X'], \n",
    "                    'valor_2': [4, 5, 6]})\n",
    "\n",
    "# Unión de los dataframes utilizando la columna clave y el método merge\n",
    "df_unido = pd.merge(df1, df2, on='clave')\n",
    "\n",
    "print(df_unido)"
   ]
  }
 ],
 "metadata": {
  "kernelspec": {
   "display_name": "Python 3",
   "language": "python",
   "name": "python3"
  },
  "language_info": {
   "codemirror_mode": {
    "name": "ipython",
    "version": 3
   },
   "file_extension": ".py",
   "mimetype": "text/x-python",
   "name": "python",
   "nbconvert_exporter": "python",
   "pygments_lexer": "ipython3",
   "version": "3.12.1"
  }
 },
 "nbformat": 4,
 "nbformat_minor": 2
}
