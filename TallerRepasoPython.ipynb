{
 "cells": [
  {
   "cell_type": "markdown",
   "metadata": {},
   "source": [
    "1. Dado un arreglo NumPy de dos dimensiones, ¿cómo se calcula la multiplicación de las filas y columnas?\n"
   ]
  },
  {
   "cell_type": "code",
   "execution_count": null,
   "metadata": {},
   "outputs": [],
   "source": [
    "import numpy as np\n",
    "\n",
    "# Creación del arreglo de 2 dimensiones\n",
    "array = np.array([[1,2,3], [4,5,6]])\n",
    "\n",
    "# Producto de las filas\n",
    "productoFilas = np.prod(array, axis=1)\n",
    "\n",
    "# Producto de las columnas\n",
    "productoColumnas = np.prod(array, axis=0)\n",
    "\n",
    "print(\"Producto de las filas: \", productoFilas)\n",
    "print(\"Producto de las columnas: \", productoColumnas)\n"
   ]
  },
  {
   "cell_type": "markdown",
   "metadata": {},
   "source": [
    "2. ¿Cómo se puede crear una función en Sympy que calcule la derivada de una función simbólica?\n"
   ]
  },
  {
   "cell_type": "code",
   "execution_count": 3,
   "metadata": {},
   "outputs": [
    {
     "name": "stdout",
     "output_type": "stream",
     "text": [
      "La derivada de función es:  6*x + 5\n"
     ]
    }
   ],
   "source": [
    "from sympy import *\n",
    "\n",
    "x = Symbol('x')\n",
    "\n",
    "#Función a derivar\n",
    "funcion = 3*x**2 + 5*x + 1\n",
    "\n",
    "#Función para calcular la derivada\n",
    "def derivada(funcion, variable):\n",
    "    #diff es la función para derivar en sympy\n",
    "    return diff(funcion, variable)\n",
    "\n",
    "#LLamado a la función para calcular la derivada\n",
    "derivadaFuncion = derivada(funcion, x)\n",
    "\n",
    "print(\"La derivada de función es: \", derivadaFuncion)"
   ]
  },
  {
   "cell_type": "markdown",
   "metadata": {},
   "source": [
    "3. ¿Cómo se pueden unir dos DataFrames en Pandas utilizando una columna común? (merge)"
   ]
  },
  {
   "cell_type": "code",
   "execution_count": null,
   "metadata": {},
   "outputs": [],
   "source": [
    "import pandas as pd\n",
    "\n",
    "# Creación de los dataframes\n",
    "df1 = pd.DataFrame({'clave': ['X', 'Y', 'Z'], \n",
    "                    'valor_1': [1, 2, 3]})\n",
    "\n",
    "df2 = pd.DataFrame({'clave': ['Y', 'Z', 'X'], \n",
    "                    'valor_2': [4, 5, 6]})\n",
    "\n",
    "# Unión de los dataframes utilizando la columna clave y el método merge\n",
    "df_unido = pd.merge(df1, df2, on='clave')\n",
    "\n",
    "print(df_unido)"
   ]
  },
  {
   "cell_type": "markdown",
   "metadata": {},
   "source": [
    "4. ¿Cómo se pueden agregar N columna de datos a un DataFrames en Pandas?"
   ]
  },
  {
   "cell_type": "code",
   "execution_count": null,
   "metadata": {},
   "outputs": [],
   "source": [
    "import pandas as pd\n",
    "\n",
    "#Si tenemos los datos en un diccionario, podemos asignarlo directamente:\n",
    "df1 = pd.DataFrame({'col1': [1, 2], 'col2': [3, 4]}) \n",
    "nuevas_cols = {'col3': [5, 6], 'col4': [7, 8]}\n",
    "df1 = df1.assign(**nuevas_cols)\n",
    "print('dataFrame con nuevas columnas: \\n', df1)\n",
    "\n",
    "# Se puede hacer mediante la concatenación de los dataframes\n",
    "nuevo_df = pd.DataFrame({'col3': [5, 6], 'col4': [7, 8]}) \n",
    "df2 = pd.concat([df2, nuevo_df], axis=1)\n",
    "print('dataFrame concatenado: \\n', df2)\n",
    "\n",
    "#También podemos pasar una lista de listas, una lista por cada nueva columna:\n",
    "df3 = pd.DataFrame({'col1': [1, 2], 'col2': [3, 4]})\n",
    "df3[['col3', 'col4']] = [[5, 6], [7, 8]]\n",
    "print('dataFrame con nuevas columnas: \\n', df3)\n"
   ]
  },
  {
   "cell_type": "markdown",
   "metadata": {},
   "source": [
    "5. ¿Cómo se puede graficar una función en Matplotlib utilizando el método subplot para mostrar varias gráficas en una misma figura?"
   ]
  },
  {
   "cell_type": "code",
   "execution_count": null,
   "metadata": {},
   "outputs": [],
   "source": [
    "import matplotlib.pyplot as plt\n",
    "import numpy as np\n",
    "\n",
    "# Datos para 3 funciones\n",
    "x = np.arange(0, 10, 0.1)\n",
    "y1 = x**2\n",
    "y2 = x**3 \n",
    "y3 = x**4\n",
    "\n",
    "# Crear figura y axes\n",
    "fig, axs = plt.subplots(1, 3, figsize=(10, 5))\n",
    "\n",
    "# Graficar cada función en los subplots \n",
    "axs[0].plot(x, y1)\n",
    "axs[0].set_title('y = x^2')\n",
    "\n",
    "axs[1].plot(x, y2)  \n",
    "axs[1].set_title('y = x^3')\n",
    "\n",
    "axs[2].plot(x, y3)\n",
    "axs[2].set_title('y = x^4')\n",
    "\n",
    "# Ajustar espaciado entre subplots\n",
    "plt.tight_layout()\n",
    "\n",
    "# Mostrar gráfica\n",
    "plt.show()\n"
   ]
  },
  {
   "cell_type": "markdown",
   "metadata": {},
   "source": [
    "6. ¿Cómo se puede encontrar el número de elementos distintos en un arreglo NumPy? "
   ]
  },
  {
   "cell_type": "code",
   "execution_count": null,
   "metadata": {},
   "outputs": [],
   "source": [
    "import numpy as np\n",
    "\n",
    "# Arreglo para encontrar los elementos únicos\n",
    "arr = np.array([1, 2, 3, 2, 1, 3, 4, 4])\n",
    "\n",
    "# Encontrar los elementos únicos\n",
    "num_unique = len(np.unique(arr))\n",
    "\n",
    "print(\"Número de elementos únicos: \", num_unique)\n"
   ]
  },
  {
   "cell_type": "markdown",
   "metadata": {},
   "source": [
    "7. ¿Cómo se puede calcular la integral de una función en Sympy? Realizar 3 ejemplos a mano (subir las fotos), adicionalmente utiliza Python para calcular las mismas integrales.\n",
    "\n",
    "![integralesPunto7.jpeg](/assets/integralesPunto7.jpeg)"
   ]
  },
  {
   "cell_type": "code",
   "execution_count": null,
   "metadata": {},
   "outputs": [],
   "source": [
    "from sympy import *\n",
    "\n",
    "# Variable sobre la que se va a integrar\n",
    "x = Symbol('x')\n",
    "\n",
    "# Funciones a integrar\n",
    "funcion1 = x**2 + 2*x + 1\n",
    "funcion2 = sin(x)\n",
    "funcion3 = exp(2*x) \n",
    "\n",
    "# Función para calcular la integral\n",
    "# integrate es la función para integrar en sympy\n",
    "print('Función 1:', funcion1)\n",
    "integral1 = integrate(funcion1, x)\n",
    "print('Integral 1:', integral1)\n",
    "\n",
    "print('\\nFunción 2:', funcion2)\n",
    "integral2 = integrate(funcion2, x)\n",
    "print('Integral 2:', integral2)\n",
    "\n",
    "print('\\nFunción 3:', funcion3)\n",
    "integral3 = integrate(funcion3, x)\n",
    "print('Integral 3:', integral3)\n",
    "\n",
    "\n"
   ]
  },
  {
   "cell_type": "markdown",
   "metadata": {},
   "source": [
    "8. ¿Cómo se puede aplicar una función a los valores de una columna en un DataFrame de Pandas?"
   ]
  },
  {
   "cell_type": "code",
   "execution_count": null,
   "metadata": {},
   "outputs": [],
   "source": [
    "import pandas as pd\n",
    "\n",
    "datos = {'Nombre': ['Jojhan', 'Ramdhei', 'Yair'], \n",
    "         'Equipo favorito': ['Real Madrid', 'Manchester City', 'Cucuta Deportivo']}\n",
    "\n",
    "# Crear el dataframe\n",
    "df = pd.DataFrame(datos)\n",
    "\n",
    "# Función para convertir a mayúsculas\n",
    "def mayusculas(texto):\n",
    "    return texto.upper()\n",
    "\n",
    "# Aplicar la función a cada elemento de la columna\n",
    "df['Nombre'] = df['Nombre'].apply(mayusculas)\n",
    "\n",
    "print(df)"
   ]
  },
  {
   "cell_type": "markdown",
   "metadata": {},
   "source": [
    "9. ¿Cómo se puede graficar una matriz NumPy utilizando la función imshow de Matplotlib?"
   ]
  },
  {
   "cell_type": "code",
   "execution_count": null,
   "metadata": {},
   "outputs": [],
   "source": [
    "import numpy as np\n",
    "import matplotlib.pyplot as plt\n",
    "\n",
    "# Crear una matriz NumPy de ejemplo\n",
    "matriz = np.random.randint(0, 10, size=(6, 6))\n",
    "print(\"Matriz:\")\n",
    "print(matriz)\n",
    "\n",
    "# Crear la figura y los ejes\n",
    "fig, ax = plt.subplots()\n",
    "\n",
    "# Graficar la matriz como una imagen\n",
    "im = ax.imshow(matriz, cmap='viridis')\n",
    "\n",
    "# Agregar una barra de color\n",
    "cbar = ax.figure.colorbar(im, ax=ax)\n",
    "cbar.ax.set_ylabel('Valores', rotation=-90, va=\"bottom\")\n",
    "\n",
    "# Ajustar los espacios y mostrar la imagen\n",
    "fig.tight_layout()\n",
    "plt.show()"
   ]
  },
  {
   "cell_type": "markdown",
   "metadata": {},
   "source": [
    "10. ¿Cómo se puede calcular el porcentaje de valores faltantes (NaN) en un DataFrame de Pandas?"
   ]
  },
  {
   "cell_type": "code",
   "execution_count": null,
   "metadata": {},
   "outputs": [],
   "source": [
    "import pandas as pd\n",
    "\n",
    "# DataFrame de ejemplo con algunos valores faltantes\n",
    "data = {'Columna1': [10, 20, None, 40, None], \n",
    "        'Columna2': [50, None, 30, None, 10]}\n",
    "\n",
    "df = pd.DataFrame(data)\n",
    "\n",
    "# Calcular el porcentaje de valores faltantes por columna\n",
    "porcentaje_nan_por_columna = df.isna().mean() * 100\n",
    "print(\"Porcentaje de valores faltantes por columna:\")\n",
    "print(porcentaje_nan_por_columna)\n",
    "\n",
    "# Calcular el porcentaje total de valores faltantes en el DataFrame\n",
    "numero_total_valores = df.size\n",
    "numero_total_nan = df.isna().sum().sum()\n",
    "porcentaje_total_nan = (numero_total_nan / numero_total_valores) * 100\n",
    "print(f\"\\nPorcentaje total de valores faltantes: {porcentaje_total_nan:.2f}%\")"
   ]
  },
  {
   "cell_type": "markdown",
   "metadata": {},
   "source": [
    "11. ¿Qué función de Pandas me permite encontrar los valores estadísticos genéricos de un DataFrame?\n",
    "\n",
    "R/= La función de Pandas que te permite encontrar los valores estadísticos genéricos de un DataFrame es describe()."
   ]
  },
  {
   "cell_type": "code",
   "execution_count": null,
   "metadata": {},
   "outputs": [],
   "source": [
    "import pandas as pd\n",
    "\n",
    "# Creación de un DataFrame\n",
    "data = {'Edad': [25, 30, 35, 40, 45, 50],\n",
    "        'Salario': [50000, 60000, 70000, 80000, 90000, 100000]}\n",
    "\n",
    "# DataFrame\n",
    "df = pd.DataFrame(data)\n",
    "\n",
    "# Obtener el resumen estadístico\n",
    "resumen_estadistico = df.describe()\n",
    "print(resumen_estadistico)"
   ]
  },
  {
   "cell_type": "markdown",
   "metadata": {},
   "source": [
    "12. ¿Cómo se puede generar un arreglo NumPy aleatorio que siga una distribución exponencial con un valor lambda de 0.2?"
   ]
  },
  {
   "cell_type": "code",
   "execution_count": null,
   "metadata": {},
   "outputs": [],
   "source": []
  }
 ],
 "metadata": {
  "kernelspec": {
   "display_name": "Python 3",
   "language": "python",
   "name": "python3"
  },
  "language_info": {
   "codemirror_mode": {
    "name": "ipython",
    "version": 3
   },
   "file_extension": ".py",
   "mimetype": "text/x-python",
   "name": "python",
   "nbconvert_exporter": "python",
   "pygments_lexer": "ipython3",
   "version": "3.12.1"
  }
 },
 "nbformat": 4,
 "nbformat_minor": 2
}
